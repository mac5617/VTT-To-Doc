{
 "cells": [
  {
   "cell_type": "code",
   "execution_count": 1,
   "metadata": {},
   "outputs": [],
   "source": [
    "# pip install webvtt-py\n",
    "import webvtt\n",
    "from webvtt import WebVTT, Caption\n",
    "# pip install python-docx\n",
    "from docx import Document\n",
    "# for folder\n",
    "from os import listdir\n",
    "from os.path import isfile, join"
   ]
  },
  {
   "cell_type": "code",
   "execution_count": 3,
   "metadata": {},
   "outputs": [],
   "source": [
    "def removespam(filepath):\n",
    "    vtt = webvtt.read(filepath)\n",
    "    document = Document()\n",
    "    current_name = vtt[0].text.rsplit(':')[0]\n",
    "    current_string =''\n",
    "    start_time = vtt[0].start\n",
    "    counter = 1\n",
    "    for i in range(len(vtt)):\n",
    "        if len(vtt[i].text.rsplit(':')) == 1:\n",
    "            string_end = f'{current_name}:{current_string}'\n",
    "            end_time = vtt[i-1].end\n",
    "            output_para = f'{counter}\\n{start_time} --> {end_time}\\n{string_end}\\n'\n",
    "            counter+=1\n",
    "            document.add_paragraph(output_para)\n",
    "            #reset\n",
    "            current_name = 'Unknown Speaker'\n",
    "            current_string = vtt[i].text.rsplit(':')[0]\n",
    "            start_time = vtt[i].start\n",
    "            continue\n",
    "        name = vtt[i].text.rsplit(':')[0]\n",
    "        text = vtt[i].text.rsplit(':')[1]\n",
    "        if current_name == name:\n",
    "            current_string = f'{current_string}{text}'\n",
    "        else:\n",
    "            string_end = f'{current_name}:{current_string}'\n",
    "            end_time = vtt[i-1].end\n",
    "            # counter \\n start_time \\n text\n",
    "            output_para = f'{counter}\\n{start_time} --> {end_time}\\n{string_end}'\n",
    "            counter+=1\n",
    "            document.add_paragraph(output_para)\n",
    "            #reset\n",
    "            current_name = name\n",
    "            current_string = text\n",
    "            start_time = vtt[i].start\n",
    "            if i == len(vtt)-1:\n",
    "                string_end = f'{current_name}:{current_string}'\n",
    "                output_para = f'{counter}\\n{start_time} --> {vtt[i].end}\\n{string_end}'\n",
    "                document.add_paragraph(output_para)\n",
    "    filepathremove = filepath.rsplit(\"\\\\\")[-1].rsplit(\".\")[0]\n",
    "    fileName = f'{filepathremove}.docx'\n",
    "    document.save(fileName)"
   ]
  },
  {
   "cell_type": "code",
   "execution_count": 4,
   "metadata": {},
   "outputs": [
    {
     "name": "stdout",
     "output_type": "stream",
     "text": [
      "sample.ipynb\n",
      "zoom_transcript_273.vtt\n",
      "zoom_transcript_273.docx\n"
     ]
    }
   ],
   "source": [
    "mypath = 'G:\\\\My Drive\\\\Ken'\n",
    "onlyfiles = [f for f in listdir(mypath) if isfile(join(mypath, f))]\n",
    "for currFile in onlyfiles:\n",
    "    print(currFile)\n",
    "    if 'vtt' in currFile:\n",
    "        removespam(f'{mypath}\\\\{currFile}')"
   ]
  }
 ],
 "metadata": {
  "interpreter": {
   "hash": "2be5faf79681da6f2a61fdfdd5405d65d042280f7fba6178067603e3a2925119"
  },
  "kernelspec": {
   "display_name": "Python 3.10.0 64-bit",
   "language": "python",
   "name": "python3"
  },
  "language_info": {
   "codemirror_mode": {
    "name": "ipython",
    "version": 3
   },
   "file_extension": ".py",
   "mimetype": "text/x-python",
   "name": "python",
   "nbconvert_exporter": "python",
   "pygments_lexer": "ipython3",
   "version": "3.10.0"
  },
  "orig_nbformat": 4
 },
 "nbformat": 4,
 "nbformat_minor": 2
}
