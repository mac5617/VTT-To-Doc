{
 "cells": [
  {
   "cell_type": "code",
   "execution_count": null,
   "metadata": {},
   "outputs": [],
   "source": [
    "# pip install webvtt-py\n",
    "import webvtt\n",
    "from webvtt import WebVTT, Caption\n",
    "# pip install python-docx\n",
    "from docx import Document\n",
    "# for folder\n",
    "from os import listdir\n",
    "from os.path import isfile, join"
   ]
  },
  {
   "cell_type": "code",
   "execution_count": null,
   "metadata": {},
   "outputs": [],
   "source": [
    "def removespam(filepath):\n",
    "    vtt = webvtt.read(filepath)\n",
    "    document = Document()\n",
    "    current_name = vtt[0].text.rsplit(':')[0]\n",
    "    current_string =''\n",
    "    start_time = vtt[0].start\n",
    "    counter = 1\n",
    "    for i in range(len(vtt)):\n",
    "        if len(vtt[i].text.rsplit(':')) == 1:\n",
    "            string_end = f'{current_name}:{current_string}'\n",
    "            end_time = vtt[i-1].end\n",
    "            output_para = f'{counter}\\n{start_time} --> {end_time}\\n{string_end}\\n'\n",
    "            counter+=1\n",
    "            document.add_paragraph(output_para)\n",
    "            #reset\n",
    "            current_name = 'Unknown Speaker'\n",
    "            current_string = vtt[i].text.rsplit(':')[0]\n",
    "            start_time = vtt[i].start\n",
    "            continue\n",
    "        name = vtt[i].text.rsplit(':')[0]\n",
    "        text = vtt[i].text.rsplit(':')[1]\n",
    "        if current_name == name:\n",
    "            current_string = f'{current_string}{text}'\n",
    "        else:\n",
    "            string_end = f'{current_name}:{current_string}'\n",
    "            end_time = vtt[i-1].end\n",
    "            # counter \\n start_time \\n text\n",
    "            output_para = f'{counter}\\n{start_time} --> {end_time}\\n{string_end}'\n",
    "            counter+=1\n",
    "            document.add_paragraph(output_para)\n",
    "            #reset\n",
    "            current_name = name\n",
    "            current_string = text\n",
    "            start_time = vtt[i].start\n",
    "            if i == len(vtt)-1:\n",
    "                string_end = f'{current_name}:{current_string}'\n",
    "                output_para = f'{counter}\\n{start_time} --> {vtt[i].end}\\n{string_end}'\n",
    "                document.add_paragraph(output_para)\n",
    "    filepathremove = filepath.rsplit(\"\\\\\")[-1].rsplit(\".\")[0]\n",
    "    fileName = f'{filepathremove}.docx'\n",
    "    document.save(fileName)"
   ]
  },
  {
   "cell_type": "code",
   "execution_count": null,
   "metadata": {},
   "outputs": [],
   "source": [
    "mypath = 'G:\\\\My Drive\\\\Ken'\n",
    "onlyfiles = [f for f in listdir(mypath) if isfile(join(mypath, f))]\n",
    "for currFile in onlyfiles:\n",
    "    print(currFile)\n",
    "    if 'vtt' in currFile:\n",
    "        removespam(f'{mypath}\\\\{currFile}')"
   ]
  }
 ],
 "metadata": {
  "language_info": {
   "name": "python"
  },
  "orig_nbformat": 4
 },
 "nbformat": 4,
 "nbformat_minor": 2
}
