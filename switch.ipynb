{
 "cells": [
  {
   "cell_type": "code",
   "execution_count": null,
   "metadata": {},
   "outputs": [],
   "source": [
    "# pip install webvtt-py\n",
    "import webvtt\n",
    "from webvtt import WebVTT, Caption\n",
    "# pip install python-docx\n",
    "from docx import Document"
   ]
  },
  {
   "cell_type": "code",
   "execution_count": null,
   "metadata": {},
   "outputs": [],
   "source": [
    "fileName = 'zoom_transcript_273.vtt'\n",
    "vtt = webvtt.read(fileName)"
   ]
  },
  {
   "cell_type": "code",
   "execution_count": null,
   "metadata": {},
   "outputs": [],
   "source": [
    "document = Document()\n",
    "current_name = vtt[0].text.rsplit(':')[0]\n",
    "current_string =''\n",
    "start_time = vtt[0].start\n",
    "counter = 1\n",
    "for i in range(len(vtt)):\n",
    "    if len(vtt[i].text.rsplit(':')) == 1:\n",
    "        string_end = f'{current_name}:{current_string}'\n",
    "        end_time = vtt[i-1].end\n",
    "        output_para = f'{counter}\\n{start_time} --> {end_time}\\n{string_end}\\n'\n",
    "        counter+=1\n",
    "        document.add_paragraph(output_para)\n",
    "        #reset\n",
    "        current_name = 'Unknown Speaker'\n",
    "        current_string = vtt[i].text.rsplit(':')[0]\n",
    "        start_time = vtt[i].start\n",
    "        continue\n",
    "    name = vtt[i].text.rsplit(':')[0]\n",
    "    text = vtt[i].text.rsplit(':')[1]\n",
    "    if current_name == name:\n",
    "        current_string = f'{current_string}{text}'\n",
    "    else:\n",
    "        string_end = f'{current_name}:{current_string}'\n",
    "        end_time = vtt[i-1].end\n",
    "        # counter \\n start_time \\n text\n",
    "        output_para = f'{counter}\\n{start_time} --> {end_time}\\n{string_end}'\n",
    "        counter+=1\n",
    "        document.add_paragraph(output_para)\n",
    "        #reset\n",
    "        current_name = name\n",
    "        current_string = text\n",
    "        start_time = vtt[i].start\n",
    "fileName = f'{fileName.rsplit(\".\")[0]}.docx'\n",
    "document.save(fileName)"
   ]
  }
 ],
 "metadata": {
  "language_info": {
   "name": "python"
  },
  "orig_nbformat": 4
 },
 "nbformat": 4,
 "nbformat_minor": 2
}
